{
  "nbformat": 4,
  "nbformat_minor": 0,
  "metadata": {
    "colab": {
      "provenance": [],
      "authorship_tag": "ABX9TyN9Ms7g0q42jihMmYCwregh",
      "include_colab_link": true
    },
    "kernelspec": {
      "name": "python3",
      "display_name": "Python 3"
    },
    "language_info": {
      "name": "python"
    }
  },
  "cells": [
    {
      "cell_type": "markdown",
      "metadata": {
        "id": "view-in-github",
        "colab_type": "text"
      },
      "source": [
        "<a href=\"https://colab.research.google.com/github/capozzolicaluan/TiltmeterAnalysis/blob/main/convert_date_format.ipynb\" target=\"_parent\"><img src=\"https://colab.research.google.com/assets/colab-badge.svg\" alt=\"Open In Colab\"/></a>"
      ]
    },
    {
      "cell_type": "code",
      "execution_count": 1,
      "metadata": {
        "id": "yhZYz_zlT_Wl"
      },
      "outputs": [],
      "source": [
        "# Convert date format function\n",
        "def convert_date_format(date_string):\n",
        "    # string with br date - time format \"dd/mm/aaaa hh:mm:ss\"\n",
        "    dt_obj = datetime.strptime(date_string, '%d/%m/%Y %H:%M:%S')\n",
        "    # Format as \"aaaa-mm-dd hh:mm:ss\"\n",
        "    return dt_obj.strftime('%Y-%m-%d %H:%M:%S')"
      ]
    }
  ]
}