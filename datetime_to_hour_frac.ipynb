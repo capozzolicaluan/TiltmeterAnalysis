{
  "nbformat": 4,
  "nbformat_minor": 0,
  "metadata": {
    "colab": {
      "provenance": [],
      "authorship_tag": "ABX9TyPMmy+KDG+sMzmzfnsocMsi",
      "include_colab_link": true
    },
    "kernelspec": {
      "name": "python3",
      "display_name": "Python 3"
    },
    "language_info": {
      "name": "python"
    }
  },
  "cells": [
    {
      "cell_type": "markdown",
      "metadata": {
        "id": "view-in-github",
        "colab_type": "text"
      },
      "source": [
        "<a href=\"https://colab.research.google.com/github/capozzolicaluan/TiltmeterAnalysis/blob/main/datetime_to_hour_frac.ipynb\" target=\"_parent\"><img src=\"https://colab.research.google.com/assets/colab-badge.svg\" alt=\"Open In Colab\"/></a>"
      ]
    },
    {
      "cell_type": "code",
      "execution_count": null,
      "metadata": {
        "id": "AFyy-QBmUdDH"
      },
      "outputs": [],
      "source": [
        "# convert datetime to hour fraction\n",
        "def datetime_to_hour_frac(dt):\n",
        "    return dt.hour + dt.minute / 60 + dt.second / 3600"
      ]
    }
  ]
}