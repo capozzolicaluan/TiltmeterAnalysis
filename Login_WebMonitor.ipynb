{
  "nbformat": 4,
  "nbformat_minor": 0,
  "metadata": {
    "colab": {
      "provenance": [],
      "authorship_tag": "ABX9TyOQRXIym5+0fQeSQEmMT3sC",
      "include_colab_link": true
    },
    "kernelspec": {
      "name": "python3",
      "display_name": "Python 3"
    },
    "language_info": {
      "name": "python"
    }
  },
  "cells": [
    {
      "cell_type": "markdown",
      "metadata": {
        "id": "view-in-github",
        "colab_type": "text"
      },
      "source": [
        "<a href=\"https://colab.research.google.com/github/capozzolicaluan/TiltmeterAnalysis/blob/main/Login_WebMonitor.ipynb\" target=\"_parent\"><img src=\"https://colab.research.google.com/assets/colab-badge.svg\" alt=\"Open In Colab\"/></a>"
      ]
    },
    {
      "cell_type": "code",
      "source": [
        "!pip install google_colab_selenium selenium"
      ],
      "metadata": {
        "id": "eVprMJ5TTJIm",
        "colab": {
          "base_uri": "https://localhost:8080/"
        },
        "outputId": "d87c8c60-356e-48cd-96ba-6a754358830a"
      },
      "execution_count": 5,
      "outputs": [
        {
          "output_type": "stream",
          "name": "stdout",
          "text": [
            "Requirement already satisfied: google_colab_selenium in /usr/local/lib/python3.11/dist-packages (1.0.14)\n",
            "Requirement already satisfied: selenium in /usr/local/lib/python3.11/dist-packages (4.29.0)\n",
            "Requirement already satisfied: urllib3<3,>=1.26 in /usr/local/lib/python3.11/dist-packages (from urllib3[socks]<3,>=1.26->selenium) (2.3.0)\n",
            "Requirement already satisfied: trio~=0.17 in /usr/local/lib/python3.11/dist-packages (from selenium) (0.29.0)\n",
            "Requirement already satisfied: trio-websocket~=0.9 in /usr/local/lib/python3.11/dist-packages (from selenium) (0.12.2)\n",
            "Requirement already satisfied: certifi>=2021.10.8 in /usr/local/lib/python3.11/dist-packages (from selenium) (2025.1.31)\n",
            "Requirement already satisfied: typing_extensions~=4.9 in /usr/local/lib/python3.11/dist-packages (from selenium) (4.12.2)\n",
            "Requirement already satisfied: websocket-client~=1.8 in /usr/local/lib/python3.11/dist-packages (from selenium) (1.8.0)\n",
            "Requirement already satisfied: attrs>=23.2.0 in /usr/local/lib/python3.11/dist-packages (from trio~=0.17->selenium) (25.1.0)\n",
            "Requirement already satisfied: sortedcontainers in /usr/local/lib/python3.11/dist-packages (from trio~=0.17->selenium) (2.4.0)\n",
            "Requirement already satisfied: idna in /usr/local/lib/python3.11/dist-packages (from trio~=0.17->selenium) (3.10)\n",
            "Requirement already satisfied: outcome in /usr/local/lib/python3.11/dist-packages (from trio~=0.17->selenium) (1.3.0.post0)\n",
            "Requirement already satisfied: sniffio>=1.3.0 in /usr/local/lib/python3.11/dist-packages (from trio~=0.17->selenium) (1.3.1)\n",
            "Requirement already satisfied: wsproto>=0.14 in /usr/local/lib/python3.11/dist-packages (from trio-websocket~=0.9->selenium) (1.2.0)\n",
            "Requirement already satisfied: pysocks!=1.5.7,<2.0,>=1.5.6 in /usr/local/lib/python3.11/dist-packages (from urllib3[socks]<3,>=1.26->selenium) (1.7.1)\n",
            "Requirement already satisfied: h11<1,>=0.9.0 in /usr/local/lib/python3.11/dist-packages (from wsproto>=0.14->trio-websocket~=0.9->selenium) (0.14.0)\n"
          ]
        }
      ]
    },
    {
      "cell_type": "code",
      "source": [
        "# Limpar todas as variáveis\n",
        "from IPython import get_ipython\n",
        "get_ipython().magic('reset -sf')\n",
        "\n",
        "# Código para reiniciar o ambiente do Colab\n",
        "import os\n",
        "os.kill(os.getpid(), 9)"
      ],
      "metadata": {
        "id": "zUL8cZhzLGiZ"
      },
      "execution_count": null,
      "outputs": []
    },
    {
      "cell_type": "code",
      "source": [
        "%reset -f"
      ],
      "metadata": {
        "id": "71I3n7fKbVaI"
      },
      "execution_count": 1,
      "outputs": []
    },
    {
      "cell_type": "code",
      "source": [
        "# Import packages\n",
        "import os\n",
        "import google_colab_selenium as gs\n",
        "from selenium import webdriver\n",
        "from selenium.webdriver.common.by import By\n",
        "from selenium.webdriver.support.ui import WebDriverWait\n",
        "from selenium.webdriver.support import expected_conditions as EC\n",
        "from selenium.webdriver.common.action_chains import ActionChains\n",
        "from selenium.webdriver.common.keys import Keys\n",
        "from selenium.webdriver.chrome.service import Service\n",
        "from selenium.webdriver.chrome.options import Options\n"
      ],
      "metadata": {
        "id": "BaBWPNAqsxWo"
      },
      "execution_count": 2,
      "outputs": []
    },
    {
      "cell_type": "code",
      "source": [
        "# import drive from colab\n",
        "from google.colab import drive\n",
        "drive.mount(\"/content/drive\", force_remount=True)"
      ],
      "metadata": {
        "id": "CfEJZbYGCpEU",
        "outputId": "6d98ba7b-c42d-453a-8642-6c41ff82a605",
        "colab": {
          "base_uri": "https://localhost:8080/"
        }
      },
      "execution_count": 3,
      "outputs": [
        {
          "output_type": "stream",
          "name": "stdout",
          "text": [
            "Mounted at /content/drive\n"
          ]
        }
      ]
    },
    {
      "cell_type": "code",
      "source": [
        "chrome_options = Options()\n",
        "chrome_options.add_argument(\"--headless\")  # Executar em modo headless\n",
        "chrome_options.add_argument(\"--disable-gpu\")\n",
        "chrome_options.add_argument(\"--no-sandbox\")"
      ],
      "metadata": {
        "id": "c8rHqn1pkyVl"
      },
      "execution_count": 4,
      "outputs": []
    },
    {
      "cell_type": "code",
      "source": [
        "# Definir pasta fixa para downloads\n",
        "download_dir = \"/content/drive/MyDrive/Inclinometros\"  # Certifique-se de que o caminho existe e está acessível\n",
        "\n",
        "# Configurar Chrome para baixar automaticamente\n",
        "# chrome_options = Options()\n",
        "chrome_options.add_experimental_option(\"prefs\", {\n",
        "    \"download.default_directory\": download_dir,  # Define a pasta de destino\n",
        "    \"download.prompt_for_download\": True,       # Impede que a janela de seleção apareça\n",
        "    \"download.directory_upgrade\": True,\n",
        "    \"safebrowsing.enabled\": True\n",
        "})\n",
        "\n",
        "# Iniciar WebDriver com as configurações\n",
        "service = Service()\n",
        "driver = webdriver.Chrome(service=service, options=chrome_options)"
      ],
      "metadata": {
        "id": "DHCY7xgEdT_r"
      },
      "execution_count": 6,
      "outputs": []
    },
    {
      "cell_type": "code",
      "source": [
        "#driver = gs.Chrome()\n",
        "login_url='https://santiagoecintra.senceive.com/'\n",
        "driver.get(login_url)\n",
        "# Wait for critical elements to load\n",
        "wait = WebDriverWait(driver, 10)\n",
        "email_field = wait.until(EC.presence_of_element_located((By.ID, \"txtEmail\")))\n",
        "password_field = driver.find_element(By.ID, \"txtPassword\")\n",
        "email_field.send_keys(\"filipefratte@gmail.com\")\n",
        "password_field.send_keys(\"Ivia#1983\")        # Replace with actual password\n",
        "\n",
        "# Handle \"Remember Me\" checkbox\n",
        "remember_checkbox = driver.find_element(By.ID, \"chkRemember\")\n",
        "if not remember_checkbox.is_selected():\n",
        "    remember_checkbox.click()\n",
        "\n",
        "# Click login button\n",
        "login_button = driver.find_element(By.ID, \"btnLogin\")\n",
        "login_button.click()\n",
        "\n",
        "# Aguardar o carregamento do menu após o login\n",
        "wait.until(EC.presence_of_element_located((By.ID, \"ctl00_RadMenu1\")))\n",
        "\n",
        "# Esperar até que o botão \"Reports\" esteja visível\n",
        "reports_button = WebDriverWait(driver, 20).until(\n",
        "    EC.visibility_of_element_located((By.XPATH, \"//*[@id='ctl00_RadMenu1']/ul/li[2]/a/span\")))\n",
        "\n",
        "# Esperar até que o botão \"Reports\" esteja visível e re-localizá-lo antes de interagir\n",
        "reports_button = WebDriverWait(driver, 20).until(\n",
        "    EC.visibility_of_element_located((By.XPATH, \"//*[@id='ctl00_RadMenu1']/ul/li[2]/a/span\")))\n",
        "\n",
        "# Re-localizar o elemento antes de interagir (para evitar StaleElementReferenceException)\n",
        "reports_button = driver.find_element(By.XPATH, \"//*[@id='ctl00_RadMenu1']/ul/li[2]/a/span\")\n",
        "\n",
        "# Passar o mouse sobre o botão \"Reports\" para exibir o submenu\n",
        "ActionChains(driver).move_to_element(reports_button).perform()\n",
        "\n",
        "# Esperar pelo item \"Data Reports\" aparecer no submenu com o novo XPath\n",
        "data_reports_item = WebDriverWait(driver, 20).until(\n",
        "    EC.visibility_of_element_located((By.XPATH, \"//*[@id='ctl00_RadMenu1']/ul/li[2]/div/ul/li[1]/a/span\"))\n",
        ")\n",
        "\n",
        "# Clicar no item \"Data Reports\"\n",
        "data_reports_item.click()"
      ],
      "metadata": {
        "id": "nbborx1IpEvF"
      },
      "execution_count": 7,
      "outputs": []
    },
    {
      "cell_type": "code",
      "source": [
        "driver.current_url"
      ],
      "metadata": {
        "colab": {
          "base_uri": "https://localhost:8080/",
          "height": 35
        },
        "id": "usBVM34e-g8d",
        "outputId": "01409d7c-7ced-4ddc-ed10-8b47b1e7659c"
      },
      "execution_count": 8,
      "outputs": [
        {
          "output_type": "execute_result",
          "data": {
            "text/plain": [
              "'https://santiagoecintra.senceive.com/Reports/DataReports.aspx'"
            ],
            "application/vnd.google.colaboratory.intrinsic+json": {
              "type": "string"
            }
          },
          "metadata": {},
          "execution_count": 8
        }
      ]
    },
    {
      "cell_type": "code",
      "source": [
        "# Encontrar a caixa de texto de pesquisa\n",
        "search_box = driver.find_element(By.ID, \"ctl00_txtSiteSearch\")"
      ],
      "metadata": {
        "id": "mOEorYBTStxR"
      },
      "execution_count": 9,
      "outputs": []
    },
    {
      "cell_type": "code",
      "source": [
        "# Limpar o campo de pesquisa, caso haja algum valor preexistente\n",
        "search_box.clear()"
      ],
      "metadata": {
        "id": "UCKtArT-UcLg"
      },
      "execution_count": 10,
      "outputs": []
    },
    {
      "cell_type": "code",
      "source": [
        "# Digitar \"Monitoramento Serra da Canastra\"\n",
        "search_box.send_keys(\"Monitoramento Serra da Canastra\")\n",
        "\n",
        "# Esperar um tempo para as opções de autocompletar aparecerem (pode ser ajustado conforme necessário)\n",
        "import time\n",
        "time.sleep(2)  # Aguarda para garantir que a sugestão tenha carregado\n",
        "\n",
        "# Você pode clicar diretamente na opção desejada, caso ela seja visível\n",
        "search_box.send_keys(Keys.ENTER)  # Simula pressionamento de Enter para confirmar a seleção"
      ],
      "metadata": {
        "id": "_W6bcPBMSskP"
      },
      "execution_count": 11,
      "outputs": []
    },
    {
      "cell_type": "code",
      "source": [
        "# Localizar todas as células da coluna \"Locations\"\n",
        "locations_elements = driver.find_elements(By.XPATH, \"//div[@style='cursor:default;']\")"
      ],
      "metadata": {
        "id": "gMZvS7rFVSRb"
      },
      "execution_count": 15,
      "outputs": []
    },
    {
      "cell_type": "code",
      "source": [
        "locations_elements"
      ],
      "metadata": {
        "id": "suBimWpvD7WA",
        "outputId": "2ccaa47c-5324-4849-d743-26ab694e5dd1",
        "colab": {
          "base_uri": "https://localhost:8080/"
        }
      },
      "execution_count": 16,
      "outputs": [
        {
          "output_type": "execute_result",
          "data": {
            "text/plain": [
              "[<selenium.webdriver.remote.webelement.WebElement (session=\"15fcad3c67b21cb15f8973e447f2d42a\", element=\"f.35B4A276CFDCDEFD043DFB888D8B9EDC.d.5AD4929E91FE9C43ECB7EF3E5D208686.e.69\")>,\n",
              " <selenium.webdriver.remote.webelement.WebElement (session=\"15fcad3c67b21cb15f8973e447f2d42a\", element=\"f.35B4A276CFDCDEFD043DFB888D8B9EDC.d.5AD4929E91FE9C43ECB7EF3E5D208686.e.70\")>,\n",
              " <selenium.webdriver.remote.webelement.WebElement (session=\"15fcad3c67b21cb15f8973e447f2d42a\", element=\"f.35B4A276CFDCDEFD043DFB888D8B9EDC.d.5AD4929E91FE9C43ECB7EF3E5D208686.e.71\")>,\n",
              " <selenium.webdriver.remote.webelement.WebElement (session=\"15fcad3c67b21cb15f8973e447f2d42a\", element=\"f.35B4A276CFDCDEFD043DFB888D8B9EDC.d.5AD4929E91FE9C43ECB7EF3E5D208686.e.72\")>,\n",
              " <selenium.webdriver.remote.webelement.WebElement (session=\"15fcad3c67b21cb15f8973e447f2d42a\", element=\"f.35B4A276CFDCDEFD043DFB888D8B9EDC.d.5AD4929E91FE9C43ECB7EF3E5D208686.e.73\")>,\n",
              " <selenium.webdriver.remote.webelement.WebElement (session=\"15fcad3c67b21cb15f8973e447f2d42a\", element=\"f.35B4A276CFDCDEFD043DFB888D8B9EDC.d.5AD4929E91FE9C43ECB7EF3E5D208686.e.74\")>,\n",
              " <selenium.webdriver.remote.webelement.WebElement (session=\"15fcad3c67b21cb15f8973e447f2d42a\", element=\"f.35B4A276CFDCDEFD043DFB888D8B9EDC.d.5AD4929E91FE9C43ECB7EF3E5D208686.e.75\")>,\n",
              " <selenium.webdriver.remote.webelement.WebElement (session=\"15fcad3c67b21cb15f8973e447f2d42a\", element=\"f.35B4A276CFDCDEFD043DFB888D8B9EDC.d.5AD4929E91FE9C43ECB7EF3E5D208686.e.76\")>,\n",
              " <selenium.webdriver.remote.webelement.WebElement (session=\"15fcad3c67b21cb15f8973e447f2d42a\", element=\"f.35B4A276CFDCDEFD043DFB888D8B9EDC.d.5AD4929E91FE9C43ECB7EF3E5D208686.e.77\")>,\n",
              " <selenium.webdriver.remote.webelement.WebElement (session=\"15fcad3c67b21cb15f8973e447f2d42a\", element=\"f.35B4A276CFDCDEFD043DFB888D8B9EDC.d.5AD4929E91FE9C43ECB7EF3E5D208686.e.78\")>,\n",
              " <selenium.webdriver.remote.webelement.WebElement (session=\"15fcad3c67b21cb15f8973e447f2d42a\", element=\"f.35B4A276CFDCDEFD043DFB888D8B9EDC.d.5AD4929E91FE9C43ECB7EF3E5D208686.e.79\")>,\n",
              " <selenium.webdriver.remote.webelement.WebElement (session=\"15fcad3c67b21cb15f8973e447f2d42a\", element=\"f.35B4A276CFDCDEFD043DFB888D8B9EDC.d.5AD4929E91FE9C43ECB7EF3E5D208686.e.80\")>,\n",
              " <selenium.webdriver.remote.webelement.WebElement (session=\"15fcad3c67b21cb15f8973e447f2d42a\", element=\"f.35B4A276CFDCDEFD043DFB888D8B9EDC.d.5AD4929E91FE9C43ECB7EF3E5D208686.e.81\")>]"
            ]
          },
          "metadata": {},
          "execution_count": 16
        }
      ]
    },
    {
      "cell_type": "code",
      "source": [
        "# Iterar sobre todos os elementos encontrados e clicar em cada um\n",
        "for location in locations_elements:\n",
        "    try:\n",
        "        # Clicar no elemento para marcar o checkbox\n",
        "        location.click()\n",
        "        # Aguardar um tempo, se necessário, para garantir que a ação foi concluída\n",
        "        time.sleep(0.5)  # Ajuste o tempo conforme necessário\n",
        "    except Exception as e:\n",
        "        print(f\"Erro ao clicar em {location.text}: {e}\")\n"
      ],
      "metadata": {
        "id": "3DcHqXAnYp4L",
        "outputId": "b95deb34-f54f-4100-8017-836c816881b4",
        "colab": {
          "base_uri": "https://localhost:8080/",
          "height": 1000
        }
      },
      "execution_count": 17,
      "outputs": [
        {
          "output_type": "error",
          "ename": "StaleElementReferenceException",
          "evalue": "Message: stale element reference: stale element not found\n  (Session info: chrome=133.0.6943.126); For documentation on this error, please visit: https://www.selenium.dev/documentation/webdriver/troubleshooting/errors#stale-element-reference-exception\nStacktrace:\n#0 0x55df48832bea <unknown>\n#1 0x55df482d07d0 <unknown>\n#2 0x55df482e38bb <unknown>\n#3 0x55df482e2672 <unknown>\n#4 0x55df482d7e39 <unknown>\n#5 0x55df482d5f03 <unknown>\n#6 0x55df482d9ad8 <unknown>\n#7 0x55df482d9b63 <unknown>\n#8 0x55df4831c13d <unknown>\n#9 0x55df48347a92 <unknown>\n#10 0x55df483155ea <unknown>\n#11 0x55df48347c5e <unknown>\n#12 0x55df4836dd0c <unknown>\n#13 0x55df48347863 <unknown>\n#14 0x55df48313ac8 <unknown>\n#15 0x55df48314c31 <unknown>\n#16 0x55df487fc18b <unknown>\n#17 0x55df48800112 <unknown>\n#18 0x55df487e904c <unknown>\n#19 0x55df48800d04 <unknown>\n#20 0x55df487cd4bf <unknown>\n#21 0x55df48821528 <unknown>\n#22 0x55df488216f9 <unknown>\n#23 0x55df48831a66 <unknown>\n#24 0x78a8c4f33ac3 <unknown>\n",
          "traceback": [
            "\u001b[0;31m---------------------------------------------------------------------------\u001b[0m",
            "\u001b[0;31mStaleElementReferenceException\u001b[0m            Traceback (most recent call last)",
            "\u001b[0;32m<ipython-input-17-39bc8a2f940f>\u001b[0m in \u001b[0;36m<cell line: 0>\u001b[0;34m()\u001b[0m\n\u001b[1;32m      4\u001b[0m         \u001b[0;31m# Clicar no elemento para marcar o checkbox\u001b[0m\u001b[0;34m\u001b[0m\u001b[0;34m\u001b[0m\u001b[0m\n\u001b[0;32m----> 5\u001b[0;31m         \u001b[0mlocation\u001b[0m\u001b[0;34m.\u001b[0m\u001b[0mclick\u001b[0m\u001b[0;34m(\u001b[0m\u001b[0;34m)\u001b[0m\u001b[0;34m\u001b[0m\u001b[0;34m\u001b[0m\u001b[0m\n\u001b[0m\u001b[1;32m      6\u001b[0m         \u001b[0;31m# Aguardar um tempo, se necessário, para garantir que a ação foi concluída\u001b[0m\u001b[0;34m\u001b[0m\u001b[0;34m\u001b[0m\u001b[0m\n",
            "\u001b[0;32m/usr/local/lib/python3.11/dist-packages/selenium/webdriver/remote/webelement.py\u001b[0m in \u001b[0;36mclick\u001b[0;34m(self)\u001b[0m\n\u001b[1;32m    118\u001b[0m         \"\"\"\n\u001b[0;32m--> 119\u001b[0;31m         \u001b[0mself\u001b[0m\u001b[0;34m.\u001b[0m\u001b[0m_execute\u001b[0m\u001b[0;34m(\u001b[0m\u001b[0mCommand\u001b[0m\u001b[0;34m.\u001b[0m\u001b[0mCLICK_ELEMENT\u001b[0m\u001b[0;34m)\u001b[0m\u001b[0;34m\u001b[0m\u001b[0;34m\u001b[0m\u001b[0m\n\u001b[0m\u001b[1;32m    120\u001b[0m \u001b[0;34m\u001b[0m\u001b[0m\n",
            "\u001b[0;32m/usr/local/lib/python3.11/dist-packages/selenium/webdriver/remote/webelement.py\u001b[0m in \u001b[0;36m_execute\u001b[0;34m(self, command, params)\u001b[0m\n\u001b[1;32m    571\u001b[0m         \u001b[0mparams\u001b[0m\u001b[0;34m[\u001b[0m\u001b[0;34m\"id\"\u001b[0m\u001b[0;34m]\u001b[0m \u001b[0;34m=\u001b[0m \u001b[0mself\u001b[0m\u001b[0;34m.\u001b[0m\u001b[0m_id\u001b[0m\u001b[0;34m\u001b[0m\u001b[0;34m\u001b[0m\u001b[0m\n\u001b[0;32m--> 572\u001b[0;31m         \u001b[0;32mreturn\u001b[0m \u001b[0mself\u001b[0m\u001b[0;34m.\u001b[0m\u001b[0m_parent\u001b[0m\u001b[0;34m.\u001b[0m\u001b[0mexecute\u001b[0m\u001b[0;34m(\u001b[0m\u001b[0mcommand\u001b[0m\u001b[0;34m,\u001b[0m \u001b[0mparams\u001b[0m\u001b[0;34m)\u001b[0m\u001b[0;34m\u001b[0m\u001b[0;34m\u001b[0m\u001b[0m\n\u001b[0m\u001b[1;32m    573\u001b[0m \u001b[0;34m\u001b[0m\u001b[0m\n",
            "\u001b[0;32m/usr/local/lib/python3.11/dist-packages/selenium/webdriver/remote/webdriver.py\u001b[0m in \u001b[0;36mexecute\u001b[0;34m(self, driver_command, params)\u001b[0m\n\u001b[1;32m    428\u001b[0m         \u001b[0;32mif\u001b[0m \u001b[0mresponse\u001b[0m\u001b[0;34m:\u001b[0m\u001b[0;34m\u001b[0m\u001b[0;34m\u001b[0m\u001b[0m\n\u001b[0;32m--> 429\u001b[0;31m             \u001b[0mself\u001b[0m\u001b[0;34m.\u001b[0m\u001b[0merror_handler\u001b[0m\u001b[0;34m.\u001b[0m\u001b[0mcheck_response\u001b[0m\u001b[0;34m(\u001b[0m\u001b[0mresponse\u001b[0m\u001b[0;34m)\u001b[0m\u001b[0;34m\u001b[0m\u001b[0;34m\u001b[0m\u001b[0m\n\u001b[0m\u001b[1;32m    430\u001b[0m             \u001b[0mresponse\u001b[0m\u001b[0;34m[\u001b[0m\u001b[0;34m\"value\"\u001b[0m\u001b[0;34m]\u001b[0m \u001b[0;34m=\u001b[0m \u001b[0mself\u001b[0m\u001b[0;34m.\u001b[0m\u001b[0m_unwrap_value\u001b[0m\u001b[0;34m(\u001b[0m\u001b[0mresponse\u001b[0m\u001b[0;34m.\u001b[0m\u001b[0mget\u001b[0m\u001b[0;34m(\u001b[0m\u001b[0;34m\"value\"\u001b[0m\u001b[0;34m,\u001b[0m \u001b[0;32mNone\u001b[0m\u001b[0;34m)\u001b[0m\u001b[0;34m)\u001b[0m\u001b[0;34m\u001b[0m\u001b[0;34m\u001b[0m\u001b[0m\n",
            "\u001b[0;32m/usr/local/lib/python3.11/dist-packages/selenium/webdriver/remote/errorhandler.py\u001b[0m in \u001b[0;36mcheck_response\u001b[0;34m(self, response)\u001b[0m\n\u001b[1;32m    231\u001b[0m             \u001b[0;32mraise\u001b[0m \u001b[0mexception_class\u001b[0m\u001b[0;34m(\u001b[0m\u001b[0mmessage\u001b[0m\u001b[0;34m,\u001b[0m \u001b[0mscreen\u001b[0m\u001b[0;34m,\u001b[0m \u001b[0mstacktrace\u001b[0m\u001b[0;34m,\u001b[0m \u001b[0malert_text\u001b[0m\u001b[0;34m)\u001b[0m  \u001b[0;31m# type: ignore[call-arg]  # mypy is not smart enough here\u001b[0m\u001b[0;34m\u001b[0m\u001b[0;34m\u001b[0m\u001b[0m\n\u001b[0;32m--> 232\u001b[0;31m         \u001b[0;32mraise\u001b[0m \u001b[0mexception_class\u001b[0m\u001b[0;34m(\u001b[0m\u001b[0mmessage\u001b[0m\u001b[0;34m,\u001b[0m \u001b[0mscreen\u001b[0m\u001b[0;34m,\u001b[0m \u001b[0mstacktrace\u001b[0m\u001b[0;34m)\u001b[0m\u001b[0;34m\u001b[0m\u001b[0;34m\u001b[0m\u001b[0m\n\u001b[0m",
            "\u001b[0;31mStaleElementReferenceException\u001b[0m: Message: stale element reference: stale element not found\n  (Session info: chrome=133.0.6943.126); For documentation on this error, please visit: https://www.selenium.dev/documentation/webdriver/troubleshooting/errors#stale-element-reference-exception\nStacktrace:\n#0 0x55df48832bea <unknown>\n#1 0x55df482d07d0 <unknown>\n#2 0x55df482e38bb <unknown>\n#3 0x55df482e2672 <unknown>\n#4 0x55df482d7e39 <unknown>\n#5 0x55df482d5f03 <unknown>\n#6 0x55df482d9ad8 <unknown>\n#7 0x55df482d9b63 <unknown>\n#8 0x55df483238fe <unknown>\n#9 0x55df48315be3 <unknown>\n#10 0x55df48347a92 <unknown>\n#11 0x55df483155ea <unknown>\n#12 0x55df48347c5e <unknown>\n#13 0x55df4836dd0c <unknown>\n#14 0x55df48347863 <unknown>\n#15 0x55df48313ac8 <unknown>\n#16 0x55df48314c31 <unknown>\n#17 0x55df487fc18b <unknown>\n#18 0x55df48800112 <unknown>\n#19 0x55df487e904c <unknown>\n#20 0x55df48800d04 <unknown>\n#21 0x55df487cd4bf <unknown>\n#22 0x55df48821528 <unknown>\n#23 0x55df488216f9 <unknown>\n#24 0x55df48831a66 <unknown>\n#25 0x78a8c4f33ac3 <unknown>\n",
            "\nDuring handling of the above exception, another exception occurred:\n",
            "\u001b[0;31mStaleElementReferenceException\u001b[0m            Traceback (most recent call last)",
            "\u001b[0;32m<ipython-input-17-39bc8a2f940f>\u001b[0m in \u001b[0;36m<cell line: 0>\u001b[0;34m()\u001b[0m\n\u001b[1;32m      7\u001b[0m         \u001b[0mtime\u001b[0m\u001b[0;34m.\u001b[0m\u001b[0msleep\u001b[0m\u001b[0;34m(\u001b[0m\u001b[0;36m0.5\u001b[0m\u001b[0;34m)\u001b[0m  \u001b[0;31m# Ajuste o tempo conforme necessário\u001b[0m\u001b[0;34m\u001b[0m\u001b[0;34m\u001b[0m\u001b[0m\n\u001b[1;32m      8\u001b[0m     \u001b[0;32mexcept\u001b[0m \u001b[0mException\u001b[0m \u001b[0;32mas\u001b[0m \u001b[0me\u001b[0m\u001b[0;34m:\u001b[0m\u001b[0;34m\u001b[0m\u001b[0;34m\u001b[0m\u001b[0m\n\u001b[0;32m----> 9\u001b[0;31m         \u001b[0mprint\u001b[0m\u001b[0;34m(\u001b[0m\u001b[0;34mf\"Erro ao clicar em {location.text}: {e}\"\u001b[0m\u001b[0;34m)\u001b[0m\u001b[0;34m\u001b[0m\u001b[0;34m\u001b[0m\u001b[0m\n\u001b[0m",
            "\u001b[0;32m/usr/local/lib/python3.11/dist-packages/selenium/webdriver/remote/webelement.py\u001b[0m in \u001b[0;36mtext\u001b[0;34m(self)\u001b[0m\n\u001b[1;32m    107\u001b[0m         \u001b[0;34m>>\u001b[0m\u001b[0;34m>\u001b[0m \u001b[0mprint\u001b[0m\u001b[0;34m(\u001b[0m\u001b[0melement\u001b[0m\u001b[0;34m.\u001b[0m\u001b[0mtext\u001b[0m\u001b[0;34m)\u001b[0m\u001b[0;34m\u001b[0m\u001b[0;34m\u001b[0m\u001b[0m\n\u001b[1;32m    108\u001b[0m         \"\"\"\n\u001b[0;32m--> 109\u001b[0;31m         \u001b[0;32mreturn\u001b[0m \u001b[0mself\u001b[0m\u001b[0;34m.\u001b[0m\u001b[0m_execute\u001b[0m\u001b[0;34m(\u001b[0m\u001b[0mCommand\u001b[0m\u001b[0;34m.\u001b[0m\u001b[0mGET_ELEMENT_TEXT\u001b[0m\u001b[0;34m)\u001b[0m\u001b[0;34m[\u001b[0m\u001b[0;34m\"value\"\u001b[0m\u001b[0;34m]\u001b[0m\u001b[0;34m\u001b[0m\u001b[0;34m\u001b[0m\u001b[0m\n\u001b[0m\u001b[1;32m    110\u001b[0m \u001b[0;34m\u001b[0m\u001b[0m\n\u001b[1;32m    111\u001b[0m     \u001b[0;32mdef\u001b[0m \u001b[0mclick\u001b[0m\u001b[0;34m(\u001b[0m\u001b[0mself\u001b[0m\u001b[0;34m)\u001b[0m \u001b[0;34m->\u001b[0m \u001b[0;32mNone\u001b[0m\u001b[0;34m:\u001b[0m\u001b[0;34m\u001b[0m\u001b[0;34m\u001b[0m\u001b[0m\n",
            "\u001b[0;32m/usr/local/lib/python3.11/dist-packages/selenium/webdriver/remote/webelement.py\u001b[0m in \u001b[0;36m_execute\u001b[0;34m(self, command, params)\u001b[0m\n\u001b[1;32m    570\u001b[0m             \u001b[0mparams\u001b[0m \u001b[0;34m=\u001b[0m \u001b[0;34m{\u001b[0m\u001b[0;34m}\u001b[0m\u001b[0;34m\u001b[0m\u001b[0;34m\u001b[0m\u001b[0m\n\u001b[1;32m    571\u001b[0m         \u001b[0mparams\u001b[0m\u001b[0;34m[\u001b[0m\u001b[0;34m\"id\"\u001b[0m\u001b[0;34m]\u001b[0m \u001b[0;34m=\u001b[0m \u001b[0mself\u001b[0m\u001b[0;34m.\u001b[0m\u001b[0m_id\u001b[0m\u001b[0;34m\u001b[0m\u001b[0;34m\u001b[0m\u001b[0m\n\u001b[0;32m--> 572\u001b[0;31m         \u001b[0;32mreturn\u001b[0m \u001b[0mself\u001b[0m\u001b[0;34m.\u001b[0m\u001b[0m_parent\u001b[0m\u001b[0;34m.\u001b[0m\u001b[0mexecute\u001b[0m\u001b[0;34m(\u001b[0m\u001b[0mcommand\u001b[0m\u001b[0;34m,\u001b[0m \u001b[0mparams\u001b[0m\u001b[0;34m)\u001b[0m\u001b[0;34m\u001b[0m\u001b[0;34m\u001b[0m\u001b[0m\n\u001b[0m\u001b[1;32m    573\u001b[0m \u001b[0;34m\u001b[0m\u001b[0m\n\u001b[1;32m    574\u001b[0m     \u001b[0;32mdef\u001b[0m \u001b[0mfind_element\u001b[0m\u001b[0;34m(\u001b[0m\u001b[0mself\u001b[0m\u001b[0;34m,\u001b[0m \u001b[0mby\u001b[0m\u001b[0;34m=\u001b[0m\u001b[0mBy\u001b[0m\u001b[0;34m.\u001b[0m\u001b[0mID\u001b[0m\u001b[0;34m,\u001b[0m \u001b[0mvalue\u001b[0m\u001b[0;34m=\u001b[0m\u001b[0;32mNone\u001b[0m\u001b[0;34m)\u001b[0m \u001b[0;34m->\u001b[0m \u001b[0mWebElement\u001b[0m\u001b[0;34m:\u001b[0m\u001b[0;34m\u001b[0m\u001b[0;34m\u001b[0m\u001b[0m\n",
            "\u001b[0;32m/usr/local/lib/python3.11/dist-packages/selenium/webdriver/remote/webdriver.py\u001b[0m in \u001b[0;36mexecute\u001b[0;34m(self, driver_command, params)\u001b[0m\n\u001b[1;32m    427\u001b[0m         \u001b[0mresponse\u001b[0m \u001b[0;34m=\u001b[0m \u001b[0mself\u001b[0m\u001b[0;34m.\u001b[0m\u001b[0mcommand_executor\u001b[0m\u001b[0;34m.\u001b[0m\u001b[0mexecute\u001b[0m\u001b[0;34m(\u001b[0m\u001b[0mdriver_command\u001b[0m\u001b[0;34m,\u001b[0m \u001b[0mparams\u001b[0m\u001b[0;34m)\u001b[0m\u001b[0;34m\u001b[0m\u001b[0;34m\u001b[0m\u001b[0m\n\u001b[1;32m    428\u001b[0m         \u001b[0;32mif\u001b[0m \u001b[0mresponse\u001b[0m\u001b[0;34m:\u001b[0m\u001b[0;34m\u001b[0m\u001b[0;34m\u001b[0m\u001b[0m\n\u001b[0;32m--> 429\u001b[0;31m             \u001b[0mself\u001b[0m\u001b[0;34m.\u001b[0m\u001b[0merror_handler\u001b[0m\u001b[0;34m.\u001b[0m\u001b[0mcheck_response\u001b[0m\u001b[0;34m(\u001b[0m\u001b[0mresponse\u001b[0m\u001b[0;34m)\u001b[0m\u001b[0;34m\u001b[0m\u001b[0;34m\u001b[0m\u001b[0m\n\u001b[0m\u001b[1;32m    430\u001b[0m             \u001b[0mresponse\u001b[0m\u001b[0;34m[\u001b[0m\u001b[0;34m\"value\"\u001b[0m\u001b[0;34m]\u001b[0m \u001b[0;34m=\u001b[0m \u001b[0mself\u001b[0m\u001b[0;34m.\u001b[0m\u001b[0m_unwrap_value\u001b[0m\u001b[0;34m(\u001b[0m\u001b[0mresponse\u001b[0m\u001b[0;34m.\u001b[0m\u001b[0mget\u001b[0m\u001b[0;34m(\u001b[0m\u001b[0;34m\"value\"\u001b[0m\u001b[0;34m,\u001b[0m \u001b[0;32mNone\u001b[0m\u001b[0;34m)\u001b[0m\u001b[0;34m)\u001b[0m\u001b[0;34m\u001b[0m\u001b[0;34m\u001b[0m\u001b[0m\n\u001b[1;32m    431\u001b[0m             \u001b[0;32mreturn\u001b[0m \u001b[0mresponse\u001b[0m\u001b[0;34m\u001b[0m\u001b[0;34m\u001b[0m\u001b[0m\n",
            "\u001b[0;32m/usr/local/lib/python3.11/dist-packages/selenium/webdriver/remote/errorhandler.py\u001b[0m in \u001b[0;36mcheck_response\u001b[0;34m(self, response)\u001b[0m\n\u001b[1;32m    230\u001b[0m                 \u001b[0malert_text\u001b[0m \u001b[0;34m=\u001b[0m \u001b[0mvalue\u001b[0m\u001b[0;34m[\u001b[0m\u001b[0;34m\"alert\"\u001b[0m\u001b[0;34m]\u001b[0m\u001b[0;34m.\u001b[0m\u001b[0mget\u001b[0m\u001b[0;34m(\u001b[0m\u001b[0;34m\"text\"\u001b[0m\u001b[0;34m)\u001b[0m\u001b[0;34m\u001b[0m\u001b[0;34m\u001b[0m\u001b[0m\n\u001b[1;32m    231\u001b[0m             \u001b[0;32mraise\u001b[0m \u001b[0mexception_class\u001b[0m\u001b[0;34m(\u001b[0m\u001b[0mmessage\u001b[0m\u001b[0;34m,\u001b[0m \u001b[0mscreen\u001b[0m\u001b[0;34m,\u001b[0m \u001b[0mstacktrace\u001b[0m\u001b[0;34m,\u001b[0m \u001b[0malert_text\u001b[0m\u001b[0;34m)\u001b[0m  \u001b[0;31m# type: ignore[call-arg]  # mypy is not smart enough here\u001b[0m\u001b[0;34m\u001b[0m\u001b[0;34m\u001b[0m\u001b[0m\n\u001b[0;32m--> 232\u001b[0;31m         \u001b[0;32mraise\u001b[0m \u001b[0mexception_class\u001b[0m\u001b[0;34m(\u001b[0m\u001b[0mmessage\u001b[0m\u001b[0;34m,\u001b[0m \u001b[0mscreen\u001b[0m\u001b[0;34m,\u001b[0m \u001b[0mstacktrace\u001b[0m\u001b[0;34m)\u001b[0m\u001b[0;34m\u001b[0m\u001b[0;34m\u001b[0m\u001b[0m\n\u001b[0m",
            "\u001b[0;31mStaleElementReferenceException\u001b[0m: Message: stale element reference: stale element not found\n  (Session info: chrome=133.0.6943.126); For documentation on this error, please visit: https://www.selenium.dev/documentation/webdriver/troubleshooting/errors#stale-element-reference-exception\nStacktrace:\n#0 0x55df48832bea <unknown>\n#1 0x55df482d07d0 <unknown>\n#2 0x55df482e38bb <unknown>\n#3 0x55df482e2672 <unknown>\n#4 0x55df482d7e39 <unknown>\n#5 0x55df482d5f03 <unknown>\n#6 0x55df482d9ad8 <unknown>\n#7 0x55df482d9b63 <unknown>\n#8 0x55df4831c13d <unknown>\n#9 0x55df48347a92 <unknown>\n#10 0x55df483155ea <unknown>\n#11 0x55df48347c5e <unknown>\n#12 0x55df4836dd0c <unknown>\n#13 0x55df48347863 <unknown>\n#14 0x55df48313ac8 <unknown>\n#15 0x55df48314c31 <unknown>\n#16 0x55df487fc18b <unknown>\n#17 0x55df48800112 <unknown>\n#18 0x55df487e904c <unknown>\n#19 0x55df48800d04 <unknown>\n#20 0x55df487cd4bf <unknown>\n#21 0x55df48821528 <unknown>\n#22 0x55df488216f9 <unknown>\n#23 0x55df48831a66 <unknown>\n#24 0x78a8c4f33ac3 <unknown>\n"
          ]
        }
      ]
    },
    {
      "cell_type": "code",
      "source": [
        "# Localizar todos os \"Available Sensor Types\" na tabela\n",
        "sensor_types_elements = driver.find_elements(By.XPATH, \"//table[@id='tblAvailableSensorTypes']//div[@style='cursor:default;']\")"
      ],
      "metadata": {
        "id": "ddX7h5O4bhi6"
      },
      "execution_count": null,
      "outputs": []
    },
    {
      "cell_type": "code",
      "source": [
        "# Iterar sobre todos os elementos encontrados e clicar em cada um para selecionar\n",
        "for sensor in sensor_types_elements:\n",
        "    try:\n",
        "        # Clicar para marcar o sensor\n",
        "        sensor.click()\n",
        "        # Aguardar um tempo, se necessário, para garantir que a ação foi concluída\n",
        "        time.sleep(0.5)  # Ajuste o tempo conforme necessário\n",
        "    except Exception as e:\n",
        "        print(f\"Erro ao clicar em {sensor.text}: {e}\")\n"
      ],
      "metadata": {
        "id": "ew1huAP_bRuy"
      },
      "execution_count": null,
      "outputs": []
    },
    {
      "cell_type": "code",
      "source": [
        "# Localizar o botão \"Add Selected Pairs\" pelo ID\n",
        "add_selected_pairs_button = driver.find_element(By.ID, \"AddPairs\")\n",
        "\n",
        "# Clicar no botão\n",
        "add_selected_pairs_button.click()\n"
      ],
      "metadata": {
        "id": "p4QSKrMtbmxT"
      },
      "execution_count": null,
      "outputs": []
    },
    {
      "cell_type": "code",
      "source": [
        "# Localizar o botão \"Download File (CSV)\" pelo ID\n",
        "download_button = driver.find_element(By.ID, \"btnGenerateFile\")\n",
        "\n",
        "# Clicar no botão para iniciar o download\n",
        "download_button.click()"
      ],
      "metadata": {
        "id": "C4srRs_siWbo"
      },
      "execution_count": null,
      "outputs": []
    },
    {
      "cell_type": "code",
      "source": [
        "import os\n",
        "\n",
        "# Clicar no botão para iniciar o download\n",
        "download_button = driver.find_element(By.ID, \"btnGenerateFile\")\n",
        "download_button.click()\n",
        "\n",
        "# Aguardar o download ser concluído\n",
        "time.sleep(10)  # Ajuste o tempo conforme necessário\n",
        "\n",
        "# Verificar se o arquivo foi baixado\n",
        "downloaded_files = os.listdir(download_dir)\n",
        "if any(file.endswith(\".csv\") for file in downloaded_files):\n",
        "    print(\"Download concluído com sucesso!\")\n",
        "else:\n",
        "    print(\"Erro: O arquivo não foi baixado.\")"
      ],
      "metadata": {
        "id": "bnDH_NhdQL9j"
      },
      "execution_count": null,
      "outputs": []
    },
    {
      "cell_type": "code",
      "source": [
        "from selenium import webdriver\n",
        "from selenium.webdriver.chrome.service import Service\n",
        "from selenium.webdriver.chrome.options import Options\n",
        "\n",
        "# Definir pasta fixa para downloads\n",
        "download_dir = r\"E:/\"  # Caminho onde o arquivo será salvo\n",
        "\n",
        "# Configurar Chrome para baixar automaticamente\n",
        "chrome_options = Options()\n",
        "chrome_options.add_experimental_option(\"prefs\", {\n",
        "    \"download.default_directory\": download_dir,  # Define a pasta de destino\n",
        "    \"download.prompt_for_download\": False,       # Impede que a janela de seleção apareça\n",
        "    \"download.directory_upgrade\": True,\n",
        "    \"safebrowsing.enabled\": True\n",
        "})\n",
        "\n",
        "# Iniciar WebDriver com as configurações\n",
        "service = Service()\n",
        "driver = webdriver.Chrome(service=service, options=chrome_options)\n",
        "\n",
        "# Acessar a página e realizar o login normalmente...\n",
        "driver.get(\"https://santiagoecintra.senceive.com/\")\n",
        "\n",
        "# Localizar e clicar no botão de download\n",
        "download_button = driver.find_element(By.ID, \"btnGenerateFile\")\n",
        "download_button.click()\n",
        "\n",
        "print(f\"Download iniciado. O arquivo será salvo em: {download_dir}\")\n"
      ],
      "metadata": {
        "id": "EHBvV11BiX7z"
      },
      "execution_count": null,
      "outputs": []
    },
    {
      "cell_type": "code",
      "source": [
        "driver.quit()"
      ],
      "metadata": {
        "id": "jfS_h2uolDq4"
      },
      "execution_count": null,
      "outputs": []
    }
  ]
}