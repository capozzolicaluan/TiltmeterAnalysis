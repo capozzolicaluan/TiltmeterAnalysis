{
  "nbformat": 4,
  "nbformat_minor": 0,
  "metadata": {
    "colab": {
      "provenance": [],
      "authorship_tag": "ABX9TyOiZiMBsFxxxVD2Nxar/EWS",
      "include_colab_link": true
    },
    "kernelspec": {
      "name": "python3",
      "display_name": "Python 3"
    },
    "language_info": {
      "name": "python"
    }
  },
  "cells": [
    {
      "cell_type": "markdown",
      "metadata": {
        "id": "view-in-github",
        "colab_type": "text"
      },
      "source": [
        "<a href=\"https://colab.research.google.com/github/capozzolicaluan/TiltmeterAnalysis/blob/main/Login_WebMonitor.ipynb\" target=\"_parent\"><img src=\"https://colab.research.google.com/assets/colab-badge.svg\" alt=\"Open In Colab\"/></a>"
      ]
    },
    {
      "cell_type": "code",
      "source": [
        "!pip install google_colab_selenium selenium"
      ],
      "metadata": {
        "id": "eVprMJ5TTJIm"
      },
      "execution_count": null,
      "outputs": []
    },
    {
      "cell_type": "code",
      "source": [
        "%reset -f"
      ],
      "metadata": {
        "id": "71I3n7fKbVaI"
      },
      "execution_count": 51,
      "outputs": []
    },
    {
      "cell_type": "code",
      "source": [
        "# Import packages\n",
        "import google_colab_selenium as gs\n",
        "from selenium import webdriver\n",
        "from selenium.webdriver.common.by import By\n",
        "from selenium.webdriver.support.ui import WebDriverWait\n",
        "from selenium.webdriver.support import expected_conditions as EC\n",
        "from selenium.webdriver.common.action_chains import ActionChains\n",
        "from selenium.webdriver.common.keys import Keys\n"
      ],
      "metadata": {
        "id": "BaBWPNAqsxWo"
      },
      "execution_count": 52,
      "outputs": []
    },
    {
      "cell_type": "code",
      "source": [
        "driver = gs.Chrome()\n",
        "login_url='https://santiagoecintra.senceive.com/'\n",
        "driver.get(login_url)\n",
        "# Wait for critical elements to load\n",
        "wait = WebDriverWait(driver, 10)\n",
        "email_field = wait.until(EC.presence_of_element_located((By.ID, \"txtEmail\")))\n",
        "password_field = driver.find_element(By.ID, \"txtPassword\")\n",
        "email_field.send_keys(\"filipefratte@gmail.com\")\n",
        "password_field.send_keys(\"Ivia#1983\")        # Replace with actual password\n",
        "\n",
        "# Handle \"Remember Me\" checkbox\n",
        "remember_checkbox = driver.find_element(By.ID, \"chkRemember\")\n",
        "if not remember_checkbox.is_selected():\n",
        "    remember_checkbox.click()\n",
        "\n",
        "# Click login button\n",
        "login_button = driver.find_element(By.ID, \"btnLogin\")\n",
        "login_button.click()\n",
        "\n",
        "# Aguardar o carregamento do menu após o login\n",
        "wait.until(EC.presence_of_element_located((By.ID, \"ctl00_RadMenu1\")))\n",
        "\n",
        "# Esperar até que o botão \"Reports\" esteja visível\n",
        "reports_button = WebDriverWait(driver, 20).until(\n",
        "    EC.visibility_of_element_located((By.XPATH, \"//*[@id='ctl00_RadMenu1']/ul/li[2]/a/span\")))"
      ],
      "metadata": {
        "colab": {
          "base_uri": "https://localhost:8080/",
          "height": 38
        },
        "id": "nbborx1IpEvF",
        "outputId": "85a3b540-d585-4d1e-ff39-abe2873a9679"
      },
      "execution_count": 53,
      "outputs": [
        {
          "output_type": "display_data",
          "data": {
            "text/plain": [
              "<IPython.core.display.HTML object>"
            ],
            "text/html": [
              "\n",
              "            <div class=\"spinner-container\">\n",
              "                <div class=\"spinner\" id=\"8c20a101-33a5-4287-97e9-a4859fd5b2ea-circle\"></div>\n",
              "                <div class=\"spinner-text\" id=\"8c20a101-33a5-4287-97e9-a4859fd5b2ea-text\">Initializing Chromedriver</div>\n",
              "            </div>\n",
              "            <style>\n",
              "                @keyframes spin {\n",
              "                    from { transform: rotate(0deg); }\n",
              "                    to { transform: rotate(360deg); }\n",
              "                }\n",
              "\n",
              "                .spinner-container {\n",
              "                    display: flex;\n",
              "                    align-items: center;\n",
              "                    margin-bottom: 3px;\n",
              "                }\n",
              "\n",
              "                .spinner {\n",
              "                    border: 3px solid rgba(0, 0, 0, 0.1);\n",
              "                    border-left-color: lightblue;\n",
              "                    border-radius: 50%;\n",
              "                    width: 12px;\n",
              "                    height: 12px;\n",
              "                    animation: spin 1s linear infinite;\n",
              "                }\n",
              "\n",
              "                .spinner-text {\n",
              "                    padding-left: 6px;\n",
              "                }\n",
              "            </style>\n",
              "        "
            ]
          },
          "metadata": {}
        },
        {
          "output_type": "display_data",
          "data": {
            "text/plain": [
              "<IPython.core.display.Javascript object>"
            ],
            "application/javascript": [
              "\n",
              "            const element = document.getElementById(\"8c20a101-33a5-4287-97e9-a4859fd5b2ea-circle\");\n",
              "            element.style.border = \"3px solid limegreen\";\n",
              "            element.style.animation = \"none\";\n",
              "\n",
              "            const text = document.getElementById(\"8c20a101-33a5-4287-97e9-a4859fd5b2ea-text\");\n",
              "            text.innerText = \"Initialized Chromedriver\";\n",
              "        "
            ]
          },
          "metadata": {}
        }
      ]
    },
    {
      "cell_type": "code",
      "source": [
        "driver.current_url"
      ],
      "metadata": {
        "colab": {
          "base_uri": "https://localhost:8080/",
          "height": 35
        },
        "id": "usBVM34e-g8d",
        "outputId": "6bec8354-9b29-446e-a7d3-6079b2b94421"
      },
      "execution_count": 54,
      "outputs": [
        {
          "output_type": "execute_result",
          "data": {
            "text/plain": [
              "'https://santiagoecintra.senceive.com/Monitor/SiteMonitor.aspx'"
            ],
            "application/vnd.google.colaboratory.intrinsic+json": {
              "type": "string"
            }
          },
          "metadata": {},
          "execution_count": 54
        }
      ]
    },
    {
      "cell_type": "code",
      "source": [
        "# Passar o mouse sobre o botão \"Reports\" para exibir o submenu\n",
        "ActionChains(driver).move_to_element(reports_button).perform()\n",
        "\n",
        "# Esperar pelo item \"Data Reports\" aparecer no submenu com o novo XPath\n",
        "data_reports_item = WebDriverWait(driver, 20).until(\n",
        "    EC.visibility_of_element_located((By.XPATH, \"//*[@id='ctl00_RadMenu1']/ul/li[2]/div/ul/li[1]/a/span\"))\n",
        ")\n",
        "\n",
        "# Esperar pelo item \"Data Reports\" aparecer no submenu com o novo XPath\n",
        "data_reports_item = WebDriverWait(driver, 20).until(\n",
        "    EC.visibility_of_element_located((By.XPATH, \"//*[@id='ctl00_RadMenu1']/ul/li[2]/div/ul/li[1]/a/span\"))\n",
        ")\n",
        "\n",
        "# Clicar no item \"Data Reports\"\n",
        "data_reports_item.click()"
      ],
      "metadata": {
        "id": "WLdkcEKZ6M8v"
      },
      "execution_count": 55,
      "outputs": []
    },
    {
      "cell_type": "code",
      "source": [
        "driver.current_url"
      ],
      "metadata": {
        "colab": {
          "base_uri": "https://localhost:8080/",
          "height": 35
        },
        "id": "t7H6y2na-I1K",
        "outputId": "81e94dd3-54d1-4ca2-81cb-16a37a2e51af"
      },
      "execution_count": 56,
      "outputs": [
        {
          "output_type": "execute_result",
          "data": {
            "text/plain": [
              "'https://santiagoecintra.senceive.com/Reports/DataReports.aspx'"
            ],
            "application/vnd.google.colaboratory.intrinsic+json": {
              "type": "string"
            }
          },
          "metadata": {},
          "execution_count": 56
        }
      ]
    },
    {
      "cell_type": "code",
      "source": [
        "# Encontrar a caixa de texto de pesquisa\n",
        "search_box = driver.find_element(By.ID, \"ctl00_txtSiteSearch\")"
      ],
      "metadata": {
        "id": "mOEorYBTStxR"
      },
      "execution_count": 57,
      "outputs": []
    },
    {
      "cell_type": "code",
      "source": [
        "# Limpar o campo de pesquisa, caso haja algum valor preexistente\n",
        "search_box.clear()"
      ],
      "metadata": {
        "id": "UCKtArT-UcLg"
      },
      "execution_count": 58,
      "outputs": []
    },
    {
      "cell_type": "code",
      "source": [
        "# Digitar \"Monitoramento Serra da Canastra\"\n",
        "search_box.send_keys(\"Monitoramento Serra da Canastra\")"
      ],
      "metadata": {
        "id": "79QGb5RWUj7j"
      },
      "execution_count": 59,
      "outputs": []
    },
    {
      "cell_type": "code",
      "source": [
        "# Esperar um tempo para as opções de autocompletar aparecerem (pode ser ajustado conforme necessário)\n",
        "import time\n",
        "time.sleep(2)  # Aguarda para garantir que a sugestão tenha carregado\n"
      ],
      "metadata": {
        "id": "CYR110L8Uoe6"
      },
      "execution_count": 60,
      "outputs": []
    },
    {
      "cell_type": "code",
      "source": [
        "# Você pode clicar diretamente na opção desejada, caso ela seja visível\n",
        "search_box.send_keys(Keys.ENTER)  # Simula pressionamento de Enter para confirmar a seleção"
      ],
      "metadata": {
        "id": "Rby6bnPYUq1t"
      },
      "execution_count": 61,
      "outputs": []
    },
    {
      "cell_type": "code",
      "source": [
        "# Digitar \"Monitoramento Serra da Canastra\"\n",
        "search_box.send_keys(\"Monitoramento Serra da Canastra\")\n",
        "\n",
        "# Esperar um tempo para as opções de autocompletar aparecerem (pode ser ajustado conforme necessário)\n",
        "import time\n",
        "time.sleep(2)  # Aguarda para garantir que a sugestão tenha carregado\n",
        "\n",
        "# Você pode clicar diretamente na opção desejada, caso ela seja visível\n",
        "search_box.send_keys(Keys.ENTER)  # Simula pressionamento de Enter para confirmar a seleção"
      ],
      "metadata": {
        "id": "_W6bcPBMSskP"
      },
      "execution_count": 62,
      "outputs": []
    },
    {
      "cell_type": "code",
      "source": [
        "# Localizar todas as células da coluna \"Locations\"\n",
        "locations_elements = driver.find_elements(By.XPATH, \"//div[@style='cursor:default;']\")"
      ],
      "metadata": {
        "id": "gMZvS7rFVSRb"
      },
      "execution_count": 63,
      "outputs": []
    },
    {
      "cell_type": "code",
      "source": [
        "# Iterar sobre todos os elementos encontrados e clicar em cada um\n",
        "for location in locations_elements:\n",
        "    try:\n",
        "        # Clicar no elemento para marcar o checkbox\n",
        "        location.click()\n",
        "        # Aguardar um tempo, se necessário, para garantir que a ação foi concluída\n",
        "        time.sleep(0.5)  # Ajuste o tempo conforme necessário\n",
        "    except Exception as e:\n",
        "        print(f\"Erro ao clicar em {location.text}: {e}\")\n"
      ],
      "metadata": {
        "id": "3DcHqXAnYp4L"
      },
      "execution_count": 64,
      "outputs": []
    },
    {
      "cell_type": "code",
      "source": [
        "# Localizar todos os \"Available Sensor Types\" na tabela\n",
        "sensor_types_elements = driver.find_elements(By.XPATH, \"//table[@id='tblAvailableSensorTypes']//div[@style='cursor:default;']\")"
      ],
      "metadata": {
        "id": "ddX7h5O4bhi6"
      },
      "execution_count": 65,
      "outputs": []
    },
    {
      "cell_type": "code",
      "source": [
        "# Iterar sobre todos os elementos encontrados e clicar em cada um para selecionar\n",
        "for sensor in sensor_types_elements:\n",
        "    try:\n",
        "        # Clicar para marcar o sensor\n",
        "        sensor.click()\n",
        "        # Aguardar um tempo, se necessário, para garantir que a ação foi concluída\n",
        "        time.sleep(0.5)  # Ajuste o tempo conforme necessário\n",
        "    except Exception as e:\n",
        "        print(f\"Erro ao clicar em {sensor.text}: {e}\")\n"
      ],
      "metadata": {
        "id": "ew1huAP_bRuy"
      },
      "execution_count": 67,
      "outputs": []
    },
    {
      "cell_type": "code",
      "source": [
        "# Localizar o botão \"Add Selected Pairs\" pelo ID\n",
        "add_selected_pairs_button = driver.find_element(By.ID, \"AddPairs\")\n",
        "\n",
        "# Clicar no botão\n",
        "add_selected_pairs_button.click()\n"
      ],
      "metadata": {
        "id": "p4QSKrMtbmxT"
      },
      "execution_count": 68,
      "outputs": []
    },
    {
      "cell_type": "code",
      "source": [
        "# Localizar o botão \"Download File (CSV)\" pelo ID\n",
        "download_button = driver.find_element(By.ID, \"btnGenerateFile\")\n",
        "\n",
        "# Clicar no botão para iniciar o download\n",
        "download_button.click()"
      ],
      "metadata": {
        "id": "C4srRs_siWbo"
      },
      "execution_count": 69,
      "outputs": []
    },
    {
      "cell_type": "code",
      "source": [
        "from selenium import webdriver\n",
        "from selenium.webdriver.chrome.service import Service\n",
        "from selenium.webdriver.chrome.options import Options\n",
        "\n",
        "# Definir pasta fixa para downloads\n",
        "download_dir = r\"E:/\"  # Caminho onde o arquivo será salvo\n",
        "\n",
        "# Configurar Chrome para baixar automaticamente\n",
        "chrome_options = Options()\n",
        "chrome_options.add_experimental_option(\"prefs\", {\n",
        "    \"download.default_directory\": download_dir,  # Define a pasta de destino\n",
        "    \"download.prompt_for_download\": False,       # Impede que a janela de seleção apareça\n",
        "    \"download.directory_upgrade\": True,\n",
        "    \"safebrowsing.enabled\": True\n",
        "})\n",
        "\n",
        "# Iniciar WebDriver com as configurações\n",
        "service = Service()\n",
        "driver = webdriver.Chrome(service=service, options=chrome_options)\n",
        "\n",
        "# Acessar a página e realizar o login normalmente...\n",
        "driver.get(\"https://santiagoecintra.senceive.com/\")\n",
        "\n",
        "# Localizar e clicar no botão de download\n",
        "download_button = driver.find_element(By.ID, \"btnGenerateFile\")\n",
        "download_button.click()\n",
        "\n",
        "print(f\"Download iniciado. O arquivo será salvo em: {download_dir}\")\n"
      ],
      "metadata": {
        "id": "EHBvV11BiX7z",
        "outputId": "0c6c2d19-ecfc-4b73-e794-b0bae720ccd2",
        "colab": {
          "base_uri": "https://localhost:8080/",
          "height": 651
        }
      },
      "execution_count": 71,
      "outputs": [
        {
          "output_type": "error",
          "ename": "SessionNotCreatedException",
          "evalue": "Message: session not created: probably user data directory is already in use, please specify a unique value for --user-data-dir argument, or don't use --user-data-dir\nStacktrace:\n#0 0x5cd8eedcb09a <unknown>\n#1 0x5cd8ee8928b0 <unknown>\n#2 0x5cd8ee8cbea4 <unknown>\n#3 0x5cd8ee8c78ff <unknown>\n#4 0x5cd8ee91829f <unknown>\n#5 0x5cd8ee9177d6 <unknown>\n#6 0x5cd8ee909753 <unknown>\n#7 0x5cd8ee8d538e <unknown>\n#8 0x5cd8ee8d6b51 <unknown>\n#9 0x5cd8eed9476b <unknown>\n#10 0x5cd8eed986f2 <unknown>\n#11 0x5cd8eed808fc <unknown>\n#12 0x5cd8eed992e4 <unknown>\n#13 0x5cd8eed649cf <unknown>\n#14 0x5cd8eedb9cd8 <unknown>\n#15 0x5cd8eedb9eb6 <unknown>\n#16 0x5cd8eedc9f16 <unknown>\n#17 0x7d40c2b81ac3 <unknown>\n",
          "traceback": [
            "\u001b[0;31m---------------------------------------------------------------------------\u001b[0m",
            "\u001b[0;31mSessionNotCreatedException\u001b[0m                Traceback (most recent call last)",
            "\u001b[0;32m<ipython-input-71-b296ba927448>\u001b[0m in \u001b[0;36m<cell line: 0>\u001b[0;34m()\u001b[0m\n\u001b[1;32m     17\u001b[0m \u001b[0;31m# Iniciar WebDriver com as configurações\u001b[0m\u001b[0;34m\u001b[0m\u001b[0;34m\u001b[0m\u001b[0m\n\u001b[1;32m     18\u001b[0m \u001b[0mservice\u001b[0m \u001b[0;34m=\u001b[0m \u001b[0mService\u001b[0m\u001b[0;34m(\u001b[0m\u001b[0;34m)\u001b[0m\u001b[0;34m\u001b[0m\u001b[0;34m\u001b[0m\u001b[0m\n\u001b[0;32m---> 19\u001b[0;31m \u001b[0mdriver\u001b[0m \u001b[0;34m=\u001b[0m \u001b[0mwebdriver\u001b[0m\u001b[0;34m.\u001b[0m\u001b[0mChrome\u001b[0m\u001b[0;34m(\u001b[0m\u001b[0mservice\u001b[0m\u001b[0;34m=\u001b[0m\u001b[0mservice\u001b[0m\u001b[0;34m,\u001b[0m \u001b[0moptions\u001b[0m\u001b[0;34m=\u001b[0m\u001b[0mchrome_options\u001b[0m\u001b[0;34m)\u001b[0m\u001b[0;34m\u001b[0m\u001b[0;34m\u001b[0m\u001b[0m\n\u001b[0m\u001b[1;32m     20\u001b[0m \u001b[0;34m\u001b[0m\u001b[0m\n\u001b[1;32m     21\u001b[0m \u001b[0;31m# Acessar a página e realizar o login normalmente...\u001b[0m\u001b[0;34m\u001b[0m\u001b[0;34m\u001b[0m\u001b[0m\n",
            "\u001b[0;32m/usr/local/lib/python3.11/dist-packages/selenium/webdriver/chrome/webdriver.py\u001b[0m in \u001b[0;36m__init__\u001b[0;34m(self, options, service, keep_alive)\u001b[0m\n\u001b[1;32m     43\u001b[0m         \u001b[0moptions\u001b[0m \u001b[0;34m=\u001b[0m \u001b[0moptions\u001b[0m \u001b[0;32mif\u001b[0m \u001b[0moptions\u001b[0m \u001b[0;32melse\u001b[0m \u001b[0mOptions\u001b[0m\u001b[0;34m(\u001b[0m\u001b[0;34m)\u001b[0m\u001b[0;34m\u001b[0m\u001b[0;34m\u001b[0m\u001b[0m\n\u001b[1;32m     44\u001b[0m \u001b[0;34m\u001b[0m\u001b[0m\n\u001b[0;32m---> 45\u001b[0;31m         super().__init__(\n\u001b[0m\u001b[1;32m     46\u001b[0m             \u001b[0mbrowser_name\u001b[0m\u001b[0;34m=\u001b[0m\u001b[0mDesiredCapabilities\u001b[0m\u001b[0;34m.\u001b[0m\u001b[0mCHROME\u001b[0m\u001b[0;34m[\u001b[0m\u001b[0;34m\"browserName\"\u001b[0m\u001b[0;34m]\u001b[0m\u001b[0;34m,\u001b[0m\u001b[0;34m\u001b[0m\u001b[0;34m\u001b[0m\u001b[0m\n\u001b[1;32m     47\u001b[0m             \u001b[0mvendor_prefix\u001b[0m\u001b[0;34m=\u001b[0m\u001b[0;34m\"goog\"\u001b[0m\u001b[0;34m,\u001b[0m\u001b[0;34m\u001b[0m\u001b[0;34m\u001b[0m\u001b[0m\n",
            "\u001b[0;32m/usr/local/lib/python3.11/dist-packages/selenium/webdriver/chromium/webdriver.py\u001b[0m in \u001b[0;36m__init__\u001b[0;34m(self, browser_name, vendor_prefix, options, service, keep_alive)\u001b[0m\n\u001b[1;32m     64\u001b[0m \u001b[0;34m\u001b[0m\u001b[0m\n\u001b[1;32m     65\u001b[0m         \u001b[0;32mtry\u001b[0m\u001b[0;34m:\u001b[0m\u001b[0;34m\u001b[0m\u001b[0;34m\u001b[0m\u001b[0m\n\u001b[0;32m---> 66\u001b[0;31m             \u001b[0msuper\u001b[0m\u001b[0;34m(\u001b[0m\u001b[0;34m)\u001b[0m\u001b[0;34m.\u001b[0m\u001b[0m__init__\u001b[0m\u001b[0;34m(\u001b[0m\u001b[0mcommand_executor\u001b[0m\u001b[0;34m=\u001b[0m\u001b[0mexecutor\u001b[0m\u001b[0;34m,\u001b[0m \u001b[0moptions\u001b[0m\u001b[0;34m=\u001b[0m\u001b[0moptions\u001b[0m\u001b[0;34m)\u001b[0m\u001b[0;34m\u001b[0m\u001b[0;34m\u001b[0m\u001b[0m\n\u001b[0m\u001b[1;32m     67\u001b[0m         \u001b[0;32mexcept\u001b[0m \u001b[0mException\u001b[0m\u001b[0;34m:\u001b[0m\u001b[0;34m\u001b[0m\u001b[0;34m\u001b[0m\u001b[0m\n\u001b[1;32m     68\u001b[0m             \u001b[0mself\u001b[0m\u001b[0;34m.\u001b[0m\u001b[0mquit\u001b[0m\u001b[0;34m(\u001b[0m\u001b[0;34m)\u001b[0m\u001b[0;34m\u001b[0m\u001b[0;34m\u001b[0m\u001b[0m\n",
            "\u001b[0;32m/usr/local/lib/python3.11/dist-packages/selenium/webdriver/remote/webdriver.py\u001b[0m in \u001b[0;36m__init__\u001b[0;34m(self, command_executor, keep_alive, file_detector, options, locator_converter, web_element_cls, client_config)\u001b[0m\n\u001b[1;32m    248\u001b[0m         \u001b[0mself\u001b[0m\u001b[0;34m.\u001b[0m\u001b[0m_authenticator_id\u001b[0m \u001b[0;34m=\u001b[0m \u001b[0;32mNone\u001b[0m\u001b[0;34m\u001b[0m\u001b[0;34m\u001b[0m\u001b[0m\n\u001b[1;32m    249\u001b[0m         \u001b[0mself\u001b[0m\u001b[0;34m.\u001b[0m\u001b[0mstart_client\u001b[0m\u001b[0;34m(\u001b[0m\u001b[0;34m)\u001b[0m\u001b[0;34m\u001b[0m\u001b[0;34m\u001b[0m\u001b[0m\n\u001b[0;32m--> 250\u001b[0;31m         \u001b[0mself\u001b[0m\u001b[0;34m.\u001b[0m\u001b[0mstart_session\u001b[0m\u001b[0;34m(\u001b[0m\u001b[0mcapabilities\u001b[0m\u001b[0;34m)\u001b[0m\u001b[0;34m\u001b[0m\u001b[0;34m\u001b[0m\u001b[0m\n\u001b[0m\u001b[1;32m    251\u001b[0m         \u001b[0mself\u001b[0m\u001b[0;34m.\u001b[0m\u001b[0m_fedcm\u001b[0m \u001b[0;34m=\u001b[0m \u001b[0mFedCM\u001b[0m\u001b[0;34m(\u001b[0m\u001b[0mself\u001b[0m\u001b[0;34m)\u001b[0m\u001b[0;34m\u001b[0m\u001b[0;34m\u001b[0m\u001b[0m\n\u001b[1;32m    252\u001b[0m \u001b[0;34m\u001b[0m\u001b[0m\n",
            "\u001b[0;32m/usr/local/lib/python3.11/dist-packages/selenium/webdriver/remote/webdriver.py\u001b[0m in \u001b[0;36mstart_session\u001b[0;34m(self, capabilities)\u001b[0m\n\u001b[1;32m    340\u001b[0m \u001b[0;34m\u001b[0m\u001b[0m\n\u001b[1;32m    341\u001b[0m         \u001b[0mcaps\u001b[0m \u001b[0;34m=\u001b[0m \u001b[0m_create_caps\u001b[0m\u001b[0;34m(\u001b[0m\u001b[0mcapabilities\u001b[0m\u001b[0;34m)\u001b[0m\u001b[0;34m\u001b[0m\u001b[0;34m\u001b[0m\u001b[0m\n\u001b[0;32m--> 342\u001b[0;31m         \u001b[0mresponse\u001b[0m \u001b[0;34m=\u001b[0m \u001b[0mself\u001b[0m\u001b[0;34m.\u001b[0m\u001b[0mexecute\u001b[0m\u001b[0;34m(\u001b[0m\u001b[0mCommand\u001b[0m\u001b[0;34m.\u001b[0m\u001b[0mNEW_SESSION\u001b[0m\u001b[0;34m,\u001b[0m \u001b[0mcaps\u001b[0m\u001b[0;34m)\u001b[0m\u001b[0;34m[\u001b[0m\u001b[0;34m\"value\"\u001b[0m\u001b[0;34m]\u001b[0m\u001b[0;34m\u001b[0m\u001b[0;34m\u001b[0m\u001b[0m\n\u001b[0m\u001b[1;32m    343\u001b[0m         \u001b[0mself\u001b[0m\u001b[0;34m.\u001b[0m\u001b[0msession_id\u001b[0m \u001b[0;34m=\u001b[0m \u001b[0mresponse\u001b[0m\u001b[0;34m.\u001b[0m\u001b[0mget\u001b[0m\u001b[0;34m(\u001b[0m\u001b[0;34m\"sessionId\"\u001b[0m\u001b[0;34m)\u001b[0m\u001b[0;34m\u001b[0m\u001b[0;34m\u001b[0m\u001b[0m\n\u001b[1;32m    344\u001b[0m         \u001b[0mself\u001b[0m\u001b[0;34m.\u001b[0m\u001b[0mcaps\u001b[0m \u001b[0;34m=\u001b[0m \u001b[0mresponse\u001b[0m\u001b[0;34m.\u001b[0m\u001b[0mget\u001b[0m\u001b[0;34m(\u001b[0m\u001b[0;34m\"capabilities\"\u001b[0m\u001b[0;34m)\u001b[0m\u001b[0;34m\u001b[0m\u001b[0;34m\u001b[0m\u001b[0m\n",
            "\u001b[0;32m/usr/local/lib/python3.11/dist-packages/selenium/webdriver/remote/webdriver.py\u001b[0m in \u001b[0;36mexecute\u001b[0;34m(self, driver_command, params)\u001b[0m\n\u001b[1;32m    427\u001b[0m         \u001b[0mresponse\u001b[0m \u001b[0;34m=\u001b[0m \u001b[0mself\u001b[0m\u001b[0;34m.\u001b[0m\u001b[0mcommand_executor\u001b[0m\u001b[0;34m.\u001b[0m\u001b[0mexecute\u001b[0m\u001b[0;34m(\u001b[0m\u001b[0mdriver_command\u001b[0m\u001b[0;34m,\u001b[0m \u001b[0mparams\u001b[0m\u001b[0;34m)\u001b[0m\u001b[0;34m\u001b[0m\u001b[0;34m\u001b[0m\u001b[0m\n\u001b[1;32m    428\u001b[0m         \u001b[0;32mif\u001b[0m \u001b[0mresponse\u001b[0m\u001b[0;34m:\u001b[0m\u001b[0;34m\u001b[0m\u001b[0;34m\u001b[0m\u001b[0m\n\u001b[0;32m--> 429\u001b[0;31m             \u001b[0mself\u001b[0m\u001b[0;34m.\u001b[0m\u001b[0merror_handler\u001b[0m\u001b[0;34m.\u001b[0m\u001b[0mcheck_response\u001b[0m\u001b[0;34m(\u001b[0m\u001b[0mresponse\u001b[0m\u001b[0;34m)\u001b[0m\u001b[0;34m\u001b[0m\u001b[0;34m\u001b[0m\u001b[0m\n\u001b[0m\u001b[1;32m    430\u001b[0m             \u001b[0mresponse\u001b[0m\u001b[0;34m[\u001b[0m\u001b[0;34m\"value\"\u001b[0m\u001b[0;34m]\u001b[0m \u001b[0;34m=\u001b[0m \u001b[0mself\u001b[0m\u001b[0;34m.\u001b[0m\u001b[0m_unwrap_value\u001b[0m\u001b[0;34m(\u001b[0m\u001b[0mresponse\u001b[0m\u001b[0;34m.\u001b[0m\u001b[0mget\u001b[0m\u001b[0;34m(\u001b[0m\u001b[0;34m\"value\"\u001b[0m\u001b[0;34m,\u001b[0m \u001b[0;32mNone\u001b[0m\u001b[0;34m)\u001b[0m\u001b[0;34m)\u001b[0m\u001b[0;34m\u001b[0m\u001b[0;34m\u001b[0m\u001b[0m\n\u001b[1;32m    431\u001b[0m             \u001b[0;32mreturn\u001b[0m \u001b[0mresponse\u001b[0m\u001b[0;34m\u001b[0m\u001b[0;34m\u001b[0m\u001b[0m\n",
            "\u001b[0;32m/usr/local/lib/python3.11/dist-packages/selenium/webdriver/remote/errorhandler.py\u001b[0m in \u001b[0;36mcheck_response\u001b[0;34m(self, response)\u001b[0m\n\u001b[1;32m    230\u001b[0m                 \u001b[0malert_text\u001b[0m \u001b[0;34m=\u001b[0m \u001b[0mvalue\u001b[0m\u001b[0;34m[\u001b[0m\u001b[0;34m\"alert\"\u001b[0m\u001b[0;34m]\u001b[0m\u001b[0;34m.\u001b[0m\u001b[0mget\u001b[0m\u001b[0;34m(\u001b[0m\u001b[0;34m\"text\"\u001b[0m\u001b[0;34m)\u001b[0m\u001b[0;34m\u001b[0m\u001b[0;34m\u001b[0m\u001b[0m\n\u001b[1;32m    231\u001b[0m             \u001b[0;32mraise\u001b[0m \u001b[0mexception_class\u001b[0m\u001b[0;34m(\u001b[0m\u001b[0mmessage\u001b[0m\u001b[0;34m,\u001b[0m \u001b[0mscreen\u001b[0m\u001b[0;34m,\u001b[0m \u001b[0mstacktrace\u001b[0m\u001b[0;34m,\u001b[0m \u001b[0malert_text\u001b[0m\u001b[0;34m)\u001b[0m  \u001b[0;31m# type: ignore[call-arg]  # mypy is not smart enough here\u001b[0m\u001b[0;34m\u001b[0m\u001b[0;34m\u001b[0m\u001b[0m\n\u001b[0;32m--> 232\u001b[0;31m         \u001b[0;32mraise\u001b[0m \u001b[0mexception_class\u001b[0m\u001b[0;34m(\u001b[0m\u001b[0mmessage\u001b[0m\u001b[0;34m,\u001b[0m \u001b[0mscreen\u001b[0m\u001b[0;34m,\u001b[0m \u001b[0mstacktrace\u001b[0m\u001b[0;34m)\u001b[0m\u001b[0;34m\u001b[0m\u001b[0;34m\u001b[0m\u001b[0m\n\u001b[0m",
            "\u001b[0;31mSessionNotCreatedException\u001b[0m: Message: session not created: probably user data directory is already in use, please specify a unique value for --user-data-dir argument, or don't use --user-data-dir\nStacktrace:\n#0 0x5cd8eedcb09a <unknown>\n#1 0x5cd8ee8928b0 <unknown>\n#2 0x5cd8ee8cbea4 <unknown>\n#3 0x5cd8ee8c78ff <unknown>\n#4 0x5cd8ee91829f <unknown>\n#5 0x5cd8ee9177d6 <unknown>\n#6 0x5cd8ee909753 <unknown>\n#7 0x5cd8ee8d538e <unknown>\n#8 0x5cd8ee8d6b51 <unknown>\n#9 0x5cd8eed9476b <unknown>\n#10 0x5cd8eed986f2 <unknown>\n#11 0x5cd8eed808fc <unknown>\n#12 0x5cd8eed992e4 <unknown>\n#13 0x5cd8eed649cf <unknown>\n#14 0x5cd8eedb9cd8 <unknown>\n#15 0x5cd8eedb9eb6 <unknown>\n#16 0x5cd8eedc9f16 <unknown>\n#17 0x7d40c2b81ac3 <unknown>\n"
          ]
        }
      ]
    }
  ]
}