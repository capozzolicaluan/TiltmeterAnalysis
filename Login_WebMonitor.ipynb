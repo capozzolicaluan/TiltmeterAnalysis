{
  "nbformat": 4,
  "nbformat_minor": 0,
  "metadata": {
    "colab": {
      "provenance": [],
      "authorship_tag": "ABX9TyNOinc/hk4Hg7pMe7FmRWda",
      "include_colab_link": true
    },
    "kernelspec": {
      "name": "python3",
      "display_name": "Python 3"
    },
    "language_info": {
      "name": "python"
    }
  },
  "cells": [
    {
      "cell_type": "markdown",
      "metadata": {
        "id": "view-in-github",
        "colab_type": "text"
      },
      "source": [
        "<a href=\"https://colab.research.google.com/github/capozzolicaluan/TiltmeterAnalysis/blob/main/Login_WebMonitor.ipynb\" target=\"_parent\"><img src=\"https://colab.research.google.com/assets/colab-badge.svg\" alt=\"Open In Colab\"/></a>"
      ]
    },
    {
      "cell_type": "code",
      "source": [
        "# Import packages\n",
        "import google_colab_selenium as gs\n",
        "from selenium import webdriver\n",
        "from selenium.webdriver.common.by import By\n",
        "from selenium.webdriver.support.ui import WebDriverWait\n",
        "from selenium.webdriver.support import expected_conditions as EC\n",
        "from selenium.webdriver.common.action_chains import ActionChains\n"
      ],
      "metadata": {
        "id": "BaBWPNAqsxWo"
      },
      "execution_count": 124,
      "outputs": []
    },
    {
      "cell_type": "code",
      "source": [
        "driver = gs.Chrome()\n",
        "login_url='https://santiagoecintra.senceive.com/'\n",
        "driver.get(login_url)\n",
        "# Wait for critical elements to load\n",
        "wait = WebDriverWait(driver, 10)\n",
        "email_field = wait.until(EC.presence_of_element_located((By.ID, \"txtEmail\")))\n",
        "password_field = driver.find_element(By.ID, \"txtPassword\")\n",
        "email_field.send_keys(\"filipefratte@gmail.com\")\n",
        "password_field.send_keys(\"Ivia#1983\")        # Replace with actual password\n",
        "\n",
        "# Handle \"Remember Me\" checkbox\n",
        "remember_checkbox = driver.find_element(By.ID, \"chkRemember\")\n",
        "if not remember_checkbox.is_selected():\n",
        "    remember_checkbox.click()\n",
        "\n",
        "# Click login button\n",
        "login_button = driver.find_element(By.ID, \"btnLogin\")\n",
        "login_button.click()\n",
        "\n",
        "# Aguardar o carregamento do menu após o login\n",
        "wait.until(EC.presence_of_element_located((By.ID, \"ctl00_RadMenu1\")))\n",
        "\n",
        "# Esperar até que o botão \"Reports\" esteja visível\n",
        "reports_button = WebDriverWait(driver, 20).until(\n",
        "    EC.visibility_of_element_located((By.XPATH, \"//*[@id='ctl00_RadMenu1']/ul/li[2]/a/span\")))"
      ],
      "metadata": {
        "colab": {
          "base_uri": "https://localhost:8080/",
          "height": 38
        },
        "id": "nbborx1IpEvF",
        "outputId": "c3f9d28c-6b39-4193-95fd-62e119fc6402"
      },
      "execution_count": 125,
      "outputs": [
        {
          "output_type": "display_data",
          "data": {
            "text/plain": [
              "<IPython.core.display.HTML object>"
            ],
            "text/html": [
              "\n",
              "            <div class=\"spinner-container\">\n",
              "                <div class=\"spinner\" id=\"c1c88ee5-8104-4f78-94bd-5d36243d976f-circle\"></div>\n",
              "                <div class=\"spinner-text\" id=\"c1c88ee5-8104-4f78-94bd-5d36243d976f-text\">Initializing Chromedriver</div>\n",
              "            </div>\n",
              "            <style>\n",
              "                @keyframes spin {\n",
              "                    from { transform: rotate(0deg); }\n",
              "                    to { transform: rotate(360deg); }\n",
              "                }\n",
              "\n",
              "                .spinner-container {\n",
              "                    display: flex;\n",
              "                    align-items: center;\n",
              "                    margin-bottom: 3px;\n",
              "                }\n",
              "\n",
              "                .spinner {\n",
              "                    border: 3px solid rgba(0, 0, 0, 0.1);\n",
              "                    border-left-color: lightblue;\n",
              "                    border-radius: 50%;\n",
              "                    width: 12px;\n",
              "                    height: 12px;\n",
              "                    animation: spin 1s linear infinite;\n",
              "                }\n",
              "\n",
              "                .spinner-text {\n",
              "                    padding-left: 6px;\n",
              "                }\n",
              "            </style>\n",
              "        "
            ]
          },
          "metadata": {}
        },
        {
          "output_type": "display_data",
          "data": {
            "text/plain": [
              "<IPython.core.display.Javascript object>"
            ],
            "application/javascript": [
              "\n",
              "            const element = document.getElementById(\"c1c88ee5-8104-4f78-94bd-5d36243d976f-circle\");\n",
              "            element.style.border = \"3px solid limegreen\";\n",
              "            element.style.animation = \"none\";\n",
              "\n",
              "            const text = document.getElementById(\"c1c88ee5-8104-4f78-94bd-5d36243d976f-text\");\n",
              "            text.innerText = \"Initialized Chromedriver\";\n",
              "        "
            ]
          },
          "metadata": {}
        }
      ]
    },
    {
      "cell_type": "code",
      "source": [
        "driver.current_url"
      ],
      "metadata": {
        "colab": {
          "base_uri": "https://localhost:8080/",
          "height": 35
        },
        "id": "usBVM34e-g8d",
        "outputId": "56ad279b-5ac4-4c43-b710-1297d1cc2a4a"
      },
      "execution_count": 122,
      "outputs": [
        {
          "output_type": "execute_result",
          "data": {
            "text/plain": [
              "'https://santiagoecintra.senceive.com/Monitor/SiteMonitor.aspx'"
            ],
            "application/vnd.google.colaboratory.intrinsic+json": {
              "type": "string"
            }
          },
          "metadata": {},
          "execution_count": 122
        }
      ]
    },
    {
      "cell_type": "code",
      "source": [
        "# Passar o mouse sobre o botão \"Reports\" para exibir o submenu\n",
        "ActionChains(driver).move_to_element(reports_button).perform()\n",
        "\n",
        "# Esperar pelo item \"Data Reports\" aparecer no submenu com o novo XPath\n",
        "data_reports_item = WebDriverWait(driver, 20).until(\n",
        "    EC.visibility_of_element_located((By.XPATH, \"//*[@id='ctl00_RadMenu1']/ul/li[2]/div/ul/li[1]/a/span\"))\n",
        ")\n",
        "\n",
        "# Esperar pelo item \"Data Reports\" aparecer no submenu com o novo XPath\n",
        "data_reports_item = WebDriverWait(driver, 20).until(\n",
        "    EC.visibility_of_element_located((By.XPATH, \"//*[@id='ctl00_RadMenu1']/ul/li[2]/div/ul/li[1]/a/span\"))\n",
        ")\n",
        "\n",
        "# Clicar no item \"Data Reports\"\n",
        "data_reports_item.click()"
      ],
      "metadata": {
        "id": "WLdkcEKZ6M8v"
      },
      "execution_count": 123,
      "outputs": []
    },
    {
      "cell_type": "code",
      "source": [
        "driver.current_url"
      ],
      "metadata": {
        "colab": {
          "base_uri": "https://localhost:8080/",
          "height": 35
        },
        "id": "t7H6y2na-I1K",
        "outputId": "4ca5fa25-0d67-4352-e6ae-f15c248f337b"
      },
      "execution_count": 118,
      "outputs": [
        {
          "output_type": "execute_result",
          "data": {
            "text/plain": [
              "'https://santiagoecintra.senceive.com/Reports/DataReports.aspx'"
            ],
            "application/vnd.google.colaboratory.intrinsic+json": {
              "type": "string"
            }
          },
          "metadata": {},
          "execution_count": 118
        }
      ]
    },
    {
      "cell_type": "code",
      "source": [
        "# Encontrar a caixa de texto de pesquisa\n",
        "search_box = driver.find_element(By.ID, \"ctl00_txtSiteSearch\")"
      ],
      "metadata": {
        "id": "mOEorYBTStxR"
      },
      "execution_count": null,
      "outputs": []
    },
    {
      "cell_type": "code",
      "source": [
        "\n",
        "\n",
        "# Limpar o campo de pesquisa, caso haja algum valor preexistente\n",
        "search_box.clear()\n",
        "\n",
        "# Digitar \"Monitoramento Serra da Canastra\"\n",
        "search_box.send_keys(\"Monitoramento Serra da Canastra\")\n",
        "\n",
        "# Esperar um tempo para as opções de autocompletar aparecerem (pode ser ajustado conforme necessário)\n",
        "import time\n",
        "time.sleep(2)  # Aguarda para garantir que a sugestão tenha carregado\n",
        "\n",
        "# Você pode clicar diretamente na opção desejada, caso ela seja visível\n",
        "search_box.send_keys(Keys.ENTER)  # Simula pressionamento de Enter para confirmar a seleção"
      ],
      "metadata": {
        "id": "_W6bcPBMSskP"
      },
      "execution_count": null,
      "outputs": []
    }
  ]
}