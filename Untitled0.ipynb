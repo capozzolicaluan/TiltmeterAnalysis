{
  "nbformat": 4,
  "nbformat_minor": 0,
  "metadata": {
    "colab": {
      "provenance": [],
      "authorship_tag": "ABX9TyPL6zziUZjYN9+KL9hyfyqR",
      "include_colab_link": true
    },
    "kernelspec": {
      "name": "python3",
      "display_name": "Python 3"
    },
    "language_info": {
      "name": "python"
    }
  },
  "cells": [
    {
      "cell_type": "markdown",
      "metadata": {
        "id": "view-in-github",
        "colab_type": "text"
      },
      "source": [
        "<a href=\"https://colab.research.google.com/github/capozzolicaluan/TiltmeterAnalysis/blob/main/Untitled0.ipynb\" target=\"_parent\"><img src=\"https://colab.research.google.com/assets/colab-badge.svg\" alt=\"Open In Colab\"/></a>"
      ]
    },
    {
      "cell_type": "code",
      "execution_count": 1,
      "metadata": {
        "colab": {
          "base_uri": "https://localhost:8080/"
        },
        "id": "IJ3kS8iDg4vN",
        "outputId": "adc7a0b6-ee5b-4736-f2b3-15beb24bf944"
      },
      "outputs": [
        {
          "output_type": "stream",
          "name": "stdout",
          "text": [
            "     Sample Date / Time              Location             Sensor   Value  \\\n",
            "0   07/07/2023 09:05:18  SaoRoque_Tilt_0018C6  Tilt (x-axis) Raw  0.0000   \n",
            "1   07/07/2023 09:10:18  SaoRoque_Tilt_0018C6  Tilt (x-axis) Raw -0.0003   \n",
            "2   07/07/2023 09:20:18  SaoRoque_Tilt_0018C6  Tilt (x-axis) Raw -0.0005   \n",
            "3   07/07/2023 10:40:27  SaoRoque_Tilt_0018C6  Tilt (x-axis) Raw -0.0029   \n",
            "4   07/07/2023 10:50:18  SaoRoque_Tilt_0018C6  Tilt (x-axis) Raw -0.0028   \n",
            "5   07/07/2023 10:55:18  SaoRoque_Tilt_0018C6  Tilt (x-axis) Raw -0.0027   \n",
            "6   07/07/2023 11:00:09  SaoRoque_Tilt_0018C6  Tilt (x-axis) Raw -0.0029   \n",
            "7   07/07/2023 11:05:17  SaoRoque_Tilt_0018C6  Tilt (x-axis) Raw -0.0030   \n",
            "8   07/07/2023 11:10:17  SaoRoque_Tilt_0018C6  Tilt (x-axis) Raw -0.0027   \n",
            "9   07/07/2023 11:15:18  SaoRoque_Tilt_0018C6  Tilt (x-axis) Raw -0.0024   \n",
            "10  07/07/2023 11:20:18  SaoRoque_Tilt_0018C6  Tilt (x-axis) Raw -0.0032   \n",
            "11  07/07/2023 11:25:18  SaoRoque_Tilt_0018C6  Tilt (x-axis) Raw -0.0028   \n",
            "12  07/07/2023 11:30:18  SaoRoque_Tilt_0018C6  Tilt (x-axis) Raw -0.0032   \n",
            "13  07/07/2023 11:35:17  SaoRoque_Tilt_0018C6  Tilt (x-axis) Raw -0.0026   \n",
            "14  07/07/2023 11:40:18  SaoRoque_Tilt_0018C6  Tilt (x-axis) Raw -0.0032   \n",
            "15  07/07/2023 11:45:18  SaoRoque_Tilt_0018C6  Tilt (x-axis) Raw -0.0031   \n",
            "16  07/07/2023 11:50:18  SaoRoque_Tilt_0018C6  Tilt (x-axis) Raw -0.0030   \n",
            "17  07/07/2023 11:55:18  SaoRoque_Tilt_0018C6  Tilt (x-axis) Raw -0.0027   \n",
            "18  07/07/2023 12:00:18  SaoRoque_Tilt_0018C6  Tilt (x-axis) Raw -0.0027   \n",
            "19  07/07/2023 12:05:17  SaoRoque_Tilt_0018C6  Tilt (x-axis) Raw -0.0031   \n",
            "20  07/07/2023 12:15:56  SaoRoque_Tilt_0018C6  Tilt (x-axis) Raw -0.0030   \n",
            "21  07/07/2023 12:20:17  SaoRoque_Tilt_0018C6  Tilt (x-axis) Raw -0.0030   \n",
            "\n",
            "    OB Temp  \n",
            "0     25.79  \n",
            "1     25.95  \n",
            "2     26.27  \n",
            "3     24.22  \n",
            "4     22.31  \n",
            "5     21.20  \n",
            "6     21.04  \n",
            "7     20.24  \n",
            "8     19.92  \n",
            "9     19.76  \n",
            "10    19.61  \n",
            "11    19.92  \n",
            "12    19.45  \n",
            "13    19.76  \n",
            "14    19.45  \n",
            "15    19.29  \n",
            "16    19.45  \n",
            "17    19.45  \n",
            "18    19.45  \n",
            "19    19.45  \n",
            "20    19.45  \n",
            "21    19.45  \n"
          ]
        }
      ],
      "source": [
        "import pandas as pd\n",
        "import io\n",
        "\n",
        "# String contendo os dados\n",
        "data = \"\"\"\n",
        "\"Sample Date / Time\",\"Location\",\"Sensor\",\"Value\",\"OB Temp\"\n",
        "\"07/07/2023 09:05:18\",\"SaoRoque_Tilt_0018C6\",\"Tilt (x-axis) Raw\",\"0.0000\",\"25.79\"\n",
        "\"07/07/2023 09:10:18\",\"SaoRoque_Tilt_0018C6\",\"Tilt (x-axis) Raw\",\"-0.0003\",\"25.95\"\n",
        "\"07/07/2023 09:20:18\",\"SaoRoque_Tilt_0018C6\",\"Tilt (x-axis) Raw\",\"-0.0005\",\"26.27\"\n",
        "\"07/07/2023 10:40:27\",\"SaoRoque_Tilt_0018C6\",\"Tilt (x-axis) Raw\",\"-0.0029\",\"24.22\"\n",
        "\"07/07/2023 10:50:18\",\"SaoRoque_Tilt_0018C6\",\"Tilt (x-axis) Raw\",\"-0.0028\",\"22.31\"\n",
        "\"07/07/2023 10:55:18\",\"SaoRoque_Tilt_0018C6\",\"Tilt (x-axis) Raw\",\"-0.0027\",\"21.20\"\n",
        "\"07/07/2023 11:00:09\",\"SaoRoque_Tilt_0018C6\",\"Tilt (x-axis) Raw\",\"-0.0029\",\"21.04\"\n",
        "\"07/07/2023 11:05:17\",\"SaoRoque_Tilt_0018C6\",\"Tilt (x-axis) Raw\",\"-0.0030\",\"20.24\"\n",
        "\"07/07/2023 11:10:17\",\"SaoRoque_Tilt_0018C6\",\"Tilt (x-axis) Raw\",\"-0.0027\",\"19.92\"\n",
        "\"07/07/2023 11:15:18\",\"SaoRoque_Tilt_0018C6\",\"Tilt (x-axis) Raw\",\"-0.0024\",\"19.76\"\n",
        "\"07/07/2023 11:20:18\",\"SaoRoque_Tilt_0018C6\",\"Tilt (x-axis) Raw\",\"-0.0032\",\"19.61\"\n",
        "\"07/07/2023 11:25:18\",\"SaoRoque_Tilt_0018C6\",\"Tilt (x-axis) Raw\",\"-0.0028\",\"19.92\"\n",
        "\"07/07/2023 11:30:18\",\"SaoRoque_Tilt_0018C6\",\"Tilt (x-axis) Raw\",\"-0.0032\",\"19.45\"\n",
        "\"07/07/2023 11:35:17\",\"SaoRoque_Tilt_0018C6\",\"Tilt (x-axis) Raw\",\"-0.0026\",\"19.76\"\n",
        "\"07/07/2023 11:40:18\",\"SaoRoque_Tilt_0018C6\",\"Tilt (x-axis) Raw\",\"-0.0032\",\"19.45\"\n",
        "\"07/07/2023 11:45:18\",\"SaoRoque_Tilt_0018C6\",\"Tilt (x-axis) Raw\",\"-0.0031\",\"19.29\"\n",
        "\"07/07/2023 11:50:18\",\"SaoRoque_Tilt_0018C6\",\"Tilt (x-axis) Raw\",\"-0.0030\",\"19.45\"\n",
        "\"07/07/2023 11:55:18\",\"SaoRoque_Tilt_0018C6\",\"Tilt (x-axis) Raw\",\"-0.0027\",\"19.45\"\n",
        "\"07/07/2023 12:00:18\",\"SaoRoque_Tilt_0018C6\",\"Tilt (x-axis) Raw\",\"-0.0027\",\"19.45\"\n",
        "\"07/07/2023 12:05:17\",\"SaoRoque_Tilt_0018C6\",\"Tilt (x-axis) Raw\",\"-0.0031\",\"19.45\"\n",
        "\"07/07/2023 12:15:56\",\"SaoRoque_Tilt_0018C6\",\"Tilt (x-axis) Raw\",\"-0.0030\",\"19.45\"\n",
        "\"07/07/2023 12:20:17\",\"SaoRoque_Tilt_0018C6\",\"Tilt (x-axis) Raw\",\"-0.0030\",\"19.45\"\n",
        "\"\"\"\n",
        "\n",
        "# Usando io.StringIO para tratar a string como um arquivo\n",
        "data_io = io.StringIO(data)\n",
        "\n",
        "# Lendo os dados como DataFrame\n",
        "df = pd.read_csv(data_io)\n",
        "\n",
        "# Exibindo o DataFrame\n",
        "print(df)"
      ]
    }
  ]
}